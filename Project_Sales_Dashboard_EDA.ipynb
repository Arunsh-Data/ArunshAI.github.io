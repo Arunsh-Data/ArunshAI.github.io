{
  "nbformat": 4,
  "nbformat_minor": 0,
  "metadata": {
    "colab": {
      "provenance": [],
      "mount_file_id": "1HNoPHBk7hypOLgD8wjcxrnd_gJiVHeVP",
      "authorship_tag": "ABX9TyPqkfr2YF7XtAoWWBCzdgnx",
      "include_colab_link": true
    },
    "kernelspec": {
      "name": "python3",
      "display_name": "Python 3"
    },
    "language_info": {
      "name": "python"
    }
  },
  "cells": [
    {
      "cell_type": "markdown",
      "metadata": {
        "id": "view-in-github",
        "colab_type": "text"
      },
      "source": [
        "<a href=\"https://colab.research.google.com/github/Arunsh-Data/ArunshAI.github.io/blob/main/Project_Sales_Dashboard_EDA.ipynb\" target=\"_parent\"><img src=\"https://colab.research.google.com/assets/colab-badge.svg\" alt=\"Open In Colab\"/></a>"
      ]
    },
    {
      "cell_type": "code",
      "execution_count": 1,
      "metadata": {
        "id": "x7-3-V_fopuj"
      },
      "outputs": [],
      "source": [
        "import pandas as pd\n"
      ]
    },
    {
      "cell_type": "code",
      "source": [
        "url = '/content/sample_data/Sales Dashboard Dataset_01.xlsx'\n",
        "df = pd.read_excel(url)\n",
        "\n",
        "print(df.head())"
      ],
      "metadata": {
        "colab": {
          "base_uri": "https://localhost:8080/",
          "height": 347
        },
        "id": "lL_NZcdnpKNK",
        "outputId": "4ef8b9bf-5f35-43f4-c84c-9b06658bb889"
      },
      "execution_count": 2,
      "outputs": [
        {
          "output_type": "error",
          "ename": "FileNotFoundError",
          "evalue": "[Errno 2] No such file or directory: '/content/sample_data/Sales Dashboard Dataset_01.xlsx'",
          "traceback": [
            "\u001b[0;31m---------------------------------------------------------------------------\u001b[0m",
            "\u001b[0;31mFileNotFoundError\u001b[0m                         Traceback (most recent call last)",
            "\u001b[0;32m/tmp/ipython-input-2-1969441818.py\u001b[0m in \u001b[0;36m<cell line: 0>\u001b[0;34m()\u001b[0m\n\u001b[1;32m      1\u001b[0m \u001b[0murl\u001b[0m \u001b[0;34m=\u001b[0m \u001b[0;34m'/content/sample_data/Sales Dashboard Dataset_01.xlsx'\u001b[0m\u001b[0;34m\u001b[0m\u001b[0;34m\u001b[0m\u001b[0m\n\u001b[0;32m----> 2\u001b[0;31m \u001b[0mdf\u001b[0m \u001b[0;34m=\u001b[0m \u001b[0mpd\u001b[0m\u001b[0;34m.\u001b[0m\u001b[0mread_excel\u001b[0m\u001b[0;34m(\u001b[0m\u001b[0murl\u001b[0m\u001b[0;34m)\u001b[0m\u001b[0;34m\u001b[0m\u001b[0;34m\u001b[0m\u001b[0m\n\u001b[0m\u001b[1;32m      3\u001b[0m \u001b[0;34m\u001b[0m\u001b[0m\n\u001b[1;32m      4\u001b[0m \u001b[0mprint\u001b[0m\u001b[0;34m(\u001b[0m\u001b[0mdf\u001b[0m\u001b[0;34m.\u001b[0m\u001b[0mhead\u001b[0m\u001b[0;34m(\u001b[0m\u001b[0;34m)\u001b[0m\u001b[0;34m)\u001b[0m\u001b[0;34m\u001b[0m\u001b[0;34m\u001b[0m\u001b[0m\n",
            "\u001b[0;32m/usr/local/lib/python3.11/dist-packages/pandas/io/excel/_base.py\u001b[0m in \u001b[0;36mread_excel\u001b[0;34m(io, sheet_name, header, names, index_col, usecols, dtype, engine, converters, true_values, false_values, skiprows, nrows, na_values, keep_default_na, na_filter, verbose, parse_dates, date_parser, date_format, thousands, decimal, comment, skipfooter, storage_options, dtype_backend, engine_kwargs)\u001b[0m\n\u001b[1;32m    493\u001b[0m     \u001b[0;32mif\u001b[0m \u001b[0;32mnot\u001b[0m \u001b[0misinstance\u001b[0m\u001b[0;34m(\u001b[0m\u001b[0mio\u001b[0m\u001b[0;34m,\u001b[0m \u001b[0mExcelFile\u001b[0m\u001b[0;34m)\u001b[0m\u001b[0;34m:\u001b[0m\u001b[0;34m\u001b[0m\u001b[0;34m\u001b[0m\u001b[0m\n\u001b[1;32m    494\u001b[0m         \u001b[0mshould_close\u001b[0m \u001b[0;34m=\u001b[0m \u001b[0;32mTrue\u001b[0m\u001b[0;34m\u001b[0m\u001b[0;34m\u001b[0m\u001b[0m\n\u001b[0;32m--> 495\u001b[0;31m         io = ExcelFile(\n\u001b[0m\u001b[1;32m    496\u001b[0m             \u001b[0mio\u001b[0m\u001b[0;34m,\u001b[0m\u001b[0;34m\u001b[0m\u001b[0;34m\u001b[0m\u001b[0m\n\u001b[1;32m    497\u001b[0m             \u001b[0mstorage_options\u001b[0m\u001b[0;34m=\u001b[0m\u001b[0mstorage_options\u001b[0m\u001b[0;34m,\u001b[0m\u001b[0;34m\u001b[0m\u001b[0;34m\u001b[0m\u001b[0m\n",
            "\u001b[0;32m/usr/local/lib/python3.11/dist-packages/pandas/io/excel/_base.py\u001b[0m in \u001b[0;36m__init__\u001b[0;34m(self, path_or_buffer, engine, storage_options, engine_kwargs)\u001b[0m\n\u001b[1;32m   1548\u001b[0m                 \u001b[0mext\u001b[0m \u001b[0;34m=\u001b[0m \u001b[0;34m\"xls\"\u001b[0m\u001b[0;34m\u001b[0m\u001b[0;34m\u001b[0m\u001b[0m\n\u001b[1;32m   1549\u001b[0m             \u001b[0;32melse\u001b[0m\u001b[0;34m:\u001b[0m\u001b[0;34m\u001b[0m\u001b[0;34m\u001b[0m\u001b[0m\n\u001b[0;32m-> 1550\u001b[0;31m                 ext = inspect_excel_format(\n\u001b[0m\u001b[1;32m   1551\u001b[0m                     \u001b[0mcontent_or_path\u001b[0m\u001b[0;34m=\u001b[0m\u001b[0mpath_or_buffer\u001b[0m\u001b[0;34m,\u001b[0m \u001b[0mstorage_options\u001b[0m\u001b[0;34m=\u001b[0m\u001b[0mstorage_options\u001b[0m\u001b[0;34m\u001b[0m\u001b[0;34m\u001b[0m\u001b[0m\n\u001b[1;32m   1552\u001b[0m                 )\n",
            "\u001b[0;32m/usr/local/lib/python3.11/dist-packages/pandas/io/excel/_base.py\u001b[0m in \u001b[0;36minspect_excel_format\u001b[0;34m(content_or_path, storage_options)\u001b[0m\n\u001b[1;32m   1400\u001b[0m         \u001b[0mcontent_or_path\u001b[0m \u001b[0;34m=\u001b[0m \u001b[0mBytesIO\u001b[0m\u001b[0;34m(\u001b[0m\u001b[0mcontent_or_path\u001b[0m\u001b[0;34m)\u001b[0m\u001b[0;34m\u001b[0m\u001b[0;34m\u001b[0m\u001b[0m\n\u001b[1;32m   1401\u001b[0m \u001b[0;34m\u001b[0m\u001b[0m\n\u001b[0;32m-> 1402\u001b[0;31m     with get_handle(\n\u001b[0m\u001b[1;32m   1403\u001b[0m         \u001b[0mcontent_or_path\u001b[0m\u001b[0;34m,\u001b[0m \u001b[0;34m\"rb\"\u001b[0m\u001b[0;34m,\u001b[0m \u001b[0mstorage_options\u001b[0m\u001b[0;34m=\u001b[0m\u001b[0mstorage_options\u001b[0m\u001b[0;34m,\u001b[0m \u001b[0mis_text\u001b[0m\u001b[0;34m=\u001b[0m\u001b[0;32mFalse\u001b[0m\u001b[0;34m\u001b[0m\u001b[0;34m\u001b[0m\u001b[0m\n\u001b[1;32m   1404\u001b[0m     ) as handle:\n",
            "\u001b[0;32m/usr/local/lib/python3.11/dist-packages/pandas/io/common.py\u001b[0m in \u001b[0;36mget_handle\u001b[0;34m(path_or_buf, mode, encoding, compression, memory_map, is_text, errors, storage_options)\u001b[0m\n\u001b[1;32m    880\u001b[0m         \u001b[0;32melse\u001b[0m\u001b[0;34m:\u001b[0m\u001b[0;34m\u001b[0m\u001b[0;34m\u001b[0m\u001b[0m\n\u001b[1;32m    881\u001b[0m             \u001b[0;31m# Binary mode\u001b[0m\u001b[0;34m\u001b[0m\u001b[0;34m\u001b[0m\u001b[0m\n\u001b[0;32m--> 882\u001b[0;31m             \u001b[0mhandle\u001b[0m \u001b[0;34m=\u001b[0m \u001b[0mopen\u001b[0m\u001b[0;34m(\u001b[0m\u001b[0mhandle\u001b[0m\u001b[0;34m,\u001b[0m \u001b[0mioargs\u001b[0m\u001b[0;34m.\u001b[0m\u001b[0mmode\u001b[0m\u001b[0;34m)\u001b[0m\u001b[0;34m\u001b[0m\u001b[0;34m\u001b[0m\u001b[0m\n\u001b[0m\u001b[1;32m    883\u001b[0m         \u001b[0mhandles\u001b[0m\u001b[0;34m.\u001b[0m\u001b[0mappend\u001b[0m\u001b[0;34m(\u001b[0m\u001b[0mhandle\u001b[0m\u001b[0;34m)\u001b[0m\u001b[0;34m\u001b[0m\u001b[0;34m\u001b[0m\u001b[0m\n\u001b[1;32m    884\u001b[0m \u001b[0;34m\u001b[0m\u001b[0m\n",
            "\u001b[0;31mFileNotFoundError\u001b[0m: [Errno 2] No such file or directory: '/content/sample_data/Sales Dashboard Dataset_01.xlsx'"
          ]
        }
      ]
    },
    {
      "cell_type": "code",
      "source": [
        "xls = pd.ExcelFile(url)\n",
        "xls.sheet_names"
      ],
      "metadata": {
        "id": "RAMu6I1Juphs"
      },
      "execution_count": null,
      "outputs": []
    },
    {
      "cell_type": "code",
      "source": [
        "# Select the Sales sheet\n",
        "sales_df = xls.parse('Sales')\n",
        "\n",
        "# Perform EDA on the sales sheet\n",
        "print(\"\\n--- EDA for Sales Sheet ---\")\n",
        "print(\"\\nShape:\")\n",
        "print(sales_df.shape)\n",
        "print(\"\\nInfo:\")\n",
        "print(sales_df.info())\n",
        "print(\"\\nDescribe:\")\n",
        "print(sales_df.describe())\n",
        "print(\"\\nMissing values:\")\n",
        "print(sales_df.isnull().sum())\n",
        "\n",
        "# Select the Customer sheet\n",
        "customer_df = xls.parse('Customers')\n",
        "\n",
        "# Perform EDA on the customer sheet\n",
        "print(\"\\n--- EDA for Customers Sheet ---\")\n",
        "print(\"\\nShape:\")\n",
        "print(customer_df.shape)\n",
        "print(\"\\nInfo:\")\n",
        "print(customer_df.info())\n",
        "print(\"\\nDescribe:\")\n",
        "print(customer_df.describe())\n",
        "print(\"\\nMissing values:\")\n",
        "print(customer_df.isnull().sum())"
      ],
      "metadata": {
        "id": "-IgkJ4Ipu11-"
      },
      "execution_count": null,
      "outputs": []
    },
    {
      "cell_type": "code",
      "source": [
        "# Check for duplicate rows in the Sales sheet\n",
        "print(\"\\nDuplicate rows in Sales sheet:\")\n",
        "print(sales_df.duplicated().sum())\n",
        "\n",
        "# Check for duplicate rows in the Customers sheet\n",
        "print(\"\\nDuplicate rows in Customers sheet:\")\n",
        "print(customer_df.duplicated().sum())"
      ],
      "metadata": {
        "id": "sxZpZAcuvWUD"
      },
      "execution_count": null,
      "outputs": []
    },
    {
      "cell_type": "code",
      "source": [
        "# Merge the Sales and Customers sheets on the 'CustomerID' column\n",
        "merged_df = pd.merge(sales_df, customer_df, on='Customer ID')\n",
        "\n",
        "# Display the first few rows of the merged DataFrame to verify\n",
        "print(\"\\n--- Merged DataFrame ---\")\n",
        "print(merged_df.head())\n",
        "\n",
        "# Display information about the merged DataFrame\n",
        "print(\"\\nMerged DataFrame Info:\")\n",
        "print(merged_df.info())"
      ],
      "metadata": {
        "id": "15fmvHFcvHnM"
      },
      "execution_count": null,
      "outputs": []
    },
    {
      "cell_type": "code",
      "source": [
        "merged_df['Full Name'] = merged_df['Customer First Name_x'] + ' ' + merged_df['Customer Last Name_x']\n",
        "merged_df = merged_df.drop(['Customer First Name_x', 'Customer Last Name_x', 'Customer First Name_y', 'Customer Last Name_y'], axis=1)\n",
        "\n",
        "print(\"\\n--- DataFrame with Full Name and dropped First/Last Name ---\")\n",
        "print(merged_df.head())\n",
        "print(\"\\nInfo after adding Full Name and dropping First/Last Name:\")\n",
        "print(merged_df.info())"
      ],
      "metadata": {
        "id": "3TMJErMYvnP6"
      },
      "execution_count": null,
      "outputs": []
    },
    {
      "cell_type": "code",
      "source": [
        "# Identify date columns - Assuming columns with 'Date' in their name are date columns\n",
        "date_columns = [col for col in merged_df.columns if 'Date' in col]\n",
        "\n",
        "# Iterate through identified date columns and format them\n",
        "for col in date_columns:\n",
        "    # Ensure the column is in datetime format first (important if not already)\n",
        "    merged_df[col] = pd.to_datetime(merged_df[col], errors='coerce')\n",
        "    # Format the date column to 'mm-year'\n",
        "    merged_df[col] = merged_df[col].dt.strftime('%m-%Y')\n",
        "\n",
        "# Display the head of the DataFrame with formatted date columns\n",
        "print(\"\\n--- Merged DataFrame with formatted date columns ---\")\n",
        "print(merged_df.head())\n",
        "\n",
        "# Display info to confirm the data type (will likely be 'object' after formatting)\n",
        "print(\"\\nInfo after formatting date columns:\")\n",
        "print(merged_df.info())"
      ],
      "metadata": {
        "id": "wEYxNCvSx7Dz"
      },
      "execution_count": null,
      "outputs": []
    },
    {
      "cell_type": "markdown",
      "metadata": {
        "id": "46a045f9"
      },
      "source": [
        "# Calculate Key Performance Indicators (KPIs)"
      ]
    },
    {
      "cell_type": "code",
      "metadata": {
        "id": "be457db2"
      },
      "source": [
        "# Calculate Total Revenue\n",
        "total_revenue = merged_df['Sale Price _x'].sum()\n",
        "print(f\"Total Revenue: ${total_revenue:,.2f}\")\n",
        "\n",
        "# Calculate Total Profit\n",
        "total_profit = merged_df['Total Profit (GMROI)'].sum()\n",
        "print(f\"Total Profit: ${total_profit:,.2f}\")\n",
        "\n",
        "# Calculate Number of Orders\n",
        "number_of_orders = merged_df['Order ID'].nunique()\n",
        "print(f\"Number of Orders: {number_of_orders}\")\n",
        "\n",
        "# Calculate Average Order Value\n",
        "average_order_value = total_revenue / number_of_orders\n",
        "print(f\"Average Order Value: ${average_order_value:,.2f}\")"
      ],
      "execution_count": null,
      "outputs": []
    },
    {
      "cell_type": "code",
      "source": [
        "writer = pd.ExcelWriter('kpi_dashboard.xlsx', engine='xlsxwriter')\n",
        "\n",
        "# Create a DataFrame for KPIs\n",
        "kpi_data = {\n",
        "    'KPI': ['Total Revenue', 'Total Profit', 'Number of Orders', 'Average Order Value'],\n",
        "    'Value': [total_revenue, total_profit, number_of_orders, average_order_value]\n",
        "}\n",
        "kpi_df = pd.DataFrame(kpi_data)\n",
        "\n",
        "# Write the KPIs DataFrame to a sheet named 'KPIs'\n",
        "kpi_df.to_excel(writer, sheet_name='KPIs', index=False)\n",
        "\n",
        "# You might want to write other dataframes (like the original sheets or the merged_df) to other sheets\n",
        "# Example:\n",
        "sales_df.to_excel(writer, sheet_name='Original_Sales', index=False)\n",
        "merged_df.to_excel(writer, sheet_name='Merged_Data', index=False)\n",
        "\n",
        "\n",
        "# Save the Excel file\n",
        "writer.close()\n",
        "\n",
        "print(\"\\nKPIs and other data written to kpi_dashboard.xlsx\")"
      ],
      "metadata": {
        "id": "wZ_4ol7WwvQf"
      },
      "execution_count": null,
      "outputs": []
    },
    {
      "cell_type": "code",
      "metadata": {
        "id": "5537579f"
      },
      "source": [
        "xls_kpi = pd.ExcelFile('kpi_dashboard.xlsx')\n",
        "print(\"Sheets in kpi_dashboard.xlsx:\")\n",
        "print(xls_kpi.sheet_names)"
      ],
      "execution_count": null,
      "outputs": []
    }
  ]
}