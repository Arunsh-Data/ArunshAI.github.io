{
  "nbformat": 4,
  "nbformat_minor": 0,
  "metadata": {
    "colab": {
      "provenance": [],
      "mount_file_id": "1HNoPHBk7hypOLgD8wjcxrnd_gJiVHeVP",
      "authorship_tag": "ABX9TyM11qGnPTDl1T/v8cYKx6FY",
      "include_colab_link": true
    },
    "kernelspec": {
      "name": "python3",
      "display_name": "Python 3"
    },
    "language_info": {
      "name": "python"
    }
  },
  "cells": [
    {
      "cell_type": "markdown",
      "metadata": {
        "id": "view-in-github",
        "colab_type": "text"
      },
      "source": [
        "<a href=\"https://colab.research.google.com/github/Arunsh-Data/ArunshAI.github.io/blob/main/Project_Sales_Dashboard_EDA.ipynb\" target=\"_parent\"><img src=\"https://colab.research.google.com/assets/colab-badge.svg\" alt=\"Open In Colab\"/></a>"
      ]
    },
    {
      "cell_type": "code",
      "execution_count": 49,
      "metadata": {
        "id": "x7-3-V_fopuj"
      },
      "outputs": [],
      "source": [
        "import pandas as pd\n"
      ]
    },
    {
      "cell_type": "code",
      "source": [
        "url = '/content/sample_data/Sales Dashboard Dataset_01.xlsx'\n",
        "df = pd.read_excel(url)\n",
        "\n",
        "print(df.head())"
      ],
      "metadata": {
        "colab": {
          "base_uri": "https://localhost:8080/"
        },
        "id": "lL_NZcdnpKNK",
        "outputId": "fed805f7-9fce-44ee-9864-34029dfbf719"
      },
      "execution_count": 50,
      "outputs": [
        {
          "output_type": "stream",
          "name": "stdout",
          "text": [
            "   Order ID Customer Last Name Customer First Name  Customer ID  \\\n",
            "0      3001             Hughes               Lewis         1234   \n",
            "1      3002              Gomez                 Ali         1235   \n",
            "2      3003               Beck                Mila         1236   \n",
            "3      3004             Juarez             Ryleigh         1237   \n",
            "4      3005            Preston            Leonidas         1238   \n",
            "\n",
            "            Service Category Order Date  Quantity Ordered    Order Status  \\\n",
            "0             Interview Prep 2024-05-06                 3       Delivered   \n",
            "1  Resume + LinkedIn Profile 2024-07-18                 3     In Progress   \n",
            "2           LinkedIn profile 2024-07-14                 1       Delivered   \n",
            "3           LinkedIn profile 2024-06-26                 2       Delivered   \n",
            "4        Networking Strategy 2024-11-28                 1  Service Booked   \n",
            "\n",
            "  State  Margins  Service Provider Expense  Sale Price   Total Profit (GMROI)  \\\n",
            "0    WA     0.10                     56.40          564                507.60   \n",
            "1   ACT     0.30                    233.10          777                543.90   \n",
            "2   NSW     0.25                    457.25         1829               1371.75   \n",
            "3   VIC     0.25                     56.75          227                170.25   \n",
            "4   QLD     0.20                    271.00         1355               1084.00   \n",
            "\n",
            "  Sales Agent  \n",
            "0       Kelly  \n",
            "1       Kelly  \n",
            "2   Priscilla  \n",
            "3      Daniel  \n",
            "4       Brian  \n"
          ]
        }
      ]
    },
    {
      "cell_type": "code",
      "source": [
        "xls = pd.ExcelFile(url)\n",
        "xls.sheet_names"
      ],
      "metadata": {
        "colab": {
          "base_uri": "https://localhost:8080/"
        },
        "id": "RAMu6I1Juphs",
        "outputId": "ef2d4917-06f8-46d2-961a-fae6b137fa35"
      },
      "execution_count": 51,
      "outputs": [
        {
          "output_type": "execute_result",
          "data": {
            "text/plain": [
              "['Sales', 'Customers', 'Grad_Careers_Services']"
            ]
          },
          "metadata": {},
          "execution_count": 51
        }
      ]
    },
    {
      "cell_type": "code",
      "source": [
        "# Select the Sales sheet\n",
        "sales_df = xls.parse('Sales')\n",
        "\n",
        "# Perform EDA on the sales sheet\n",
        "print(\"\\n--- EDA for Sales Sheet ---\")\n",
        "print(\"\\nShape:\")\n",
        "print(sales_df.shape)\n",
        "print(\"\\nInfo:\")\n",
        "print(sales_df.info())\n",
        "print(\"\\nDescribe:\")\n",
        "print(sales_df.describe())\n",
        "print(\"\\nMissing values:\")\n",
        "print(sales_df.isnull().sum())\n",
        "\n",
        "# Select the Customer sheet\n",
        "customer_df = xls.parse('Customers')\n",
        "\n",
        "# Perform EDA on the customer sheet\n",
        "print(\"\\n--- EDA for Customers Sheet ---\")\n",
        "print(\"\\nShape:\")\n",
        "print(customer_df.shape)\n",
        "print(\"\\nInfo:\")\n",
        "print(customer_df.info())\n",
        "print(\"\\nDescribe:\")\n",
        "print(customer_df.describe())\n",
        "print(\"\\nMissing values:\")\n",
        "print(customer_df.isnull().sum())"
      ],
      "metadata": {
        "colab": {
          "base_uri": "https://localhost:8080/"
        },
        "id": "-IgkJ4Ipu11-",
        "outputId": "10e0c9a4-06cf-4bfc-c8a2-32e96a011681"
      },
      "execution_count": 52,
      "outputs": [
        {
          "output_type": "stream",
          "name": "stdout",
          "text": [
            "\n",
            "--- EDA for Sales Sheet ---\n",
            "\n",
            "Shape:\n",
            "(1000, 14)\n",
            "\n",
            "Info:\n",
            "<class 'pandas.core.frame.DataFrame'>\n",
            "RangeIndex: 1000 entries, 0 to 999\n",
            "Data columns (total 14 columns):\n",
            " #   Column                    Non-Null Count  Dtype         \n",
            "---  ------                    --------------  -----         \n",
            " 0   Order ID                  1000 non-null   int64         \n",
            " 1   Customer Last Name        1000 non-null   object        \n",
            " 2   Customer First Name       1000 non-null   object        \n",
            " 3   Customer ID               1000 non-null   int64         \n",
            " 4   Service Category          1000 non-null   object        \n",
            " 5   Order Date                1000 non-null   datetime64[ns]\n",
            " 6   Quantity Ordered          1000 non-null   int64         \n",
            " 7   Order Status              1000 non-null   object        \n",
            " 8   State                     1000 non-null   object        \n",
            " 9   Margins                   1000 non-null   float64       \n",
            " 10  Service Provider Expense  1000 non-null   float64       \n",
            " 11  Sale Price                1000 non-null   int64         \n",
            " 12  Total Profit (GMROI)      1000 non-null   float64       \n",
            " 13  Sales Agent               1000 non-null   object        \n",
            "dtypes: datetime64[ns](1), float64(3), int64(4), object(6)\n",
            "memory usage: 109.5+ KB\n",
            "None\n",
            "\n",
            "Describe:\n",
            "          Order ID  Customer ID                     Order Date  \\\n",
            "count  1000.000000   1000.00000                           1000   \n",
            "mean   3500.500000   1731.99600  2024-07-05 00:31:40.799999744   \n",
            "min    3001.000000   1234.00000            2024-01-01 00:00:00   \n",
            "25%    3250.750000   1482.75000            2024-04-02 18:00:00   \n",
            "50%    3500.500000   1731.50000            2024-07-10 00:00:00   \n",
            "75%    3750.250000   1981.25000            2024-10-04 00:00:00   \n",
            "max    4000.000000   2231.00000            2024-12-31 00:00:00   \n",
            "std     288.819436    288.21378                            NaN   \n",
            "\n",
            "       Quantity Ordered      Margins  Service Provider Expense  Sale Price   \\\n",
            "count       1000.000000  1000.000000               1000.000000  1000.000000   \n",
            "mean           2.010000     0.233050                206.466650   890.427000   \n",
            "min            1.000000     0.100000                  1.100000    11.000000   \n",
            "25%            1.000000     0.200000                 91.325000   431.750000   \n",
            "50%            2.000000     0.250000                179.200000   897.000000   \n",
            "75%            3.000000     0.300000                309.562500  1311.250000   \n",
            "max            3.000000     0.300000                571.200000  1904.000000   \n",
            "std            0.821325     0.064957                136.610881   514.266924   \n",
            "\n",
            "       Total Profit (GMROI)  \n",
            "count           1000.000000  \n",
            "mean             683.960350  \n",
            "min                7.700000  \n",
            "25%              333.450000  \n",
            "50%              679.000000  \n",
            "75%             1013.337500  \n",
            "max             1660.500000  \n",
            "std              402.355764  \n",
            "\n",
            "Missing values:\n",
            "Order ID                    0\n",
            "Customer Last Name          0\n",
            "Customer First Name         0\n",
            "Customer ID                 0\n",
            "Service Category            0\n",
            "Order Date                  0\n",
            "Quantity Ordered            0\n",
            "Order Status                0\n",
            "State                       0\n",
            "Margins                     0\n",
            "Service Provider Expense    0\n",
            "Sale Price                  0\n",
            "Total Profit (GMROI)        0\n",
            "Sales Agent                 0\n",
            "dtype: int64\n",
            "\n",
            "--- EDA for Customers Sheet ---\n",
            "\n",
            "Shape:\n",
            "(1000, 14)\n",
            "\n",
            "Info:\n",
            "<class 'pandas.core.frame.DataFrame'>\n",
            "RangeIndex: 1000 entries, 0 to 999\n",
            "Data columns (total 14 columns):\n",
            " #   Column                  Non-Null Count  Dtype         \n",
            "---  ------                  --------------  -----         \n",
            " 0   Customer Last Name      1000 non-null   object        \n",
            " 1   Customer First Name     1000 non-null   object        \n",
            " 2   Customer ID             1000 non-null   int64         \n",
            " 3   Service Category        1000 non-null   object        \n",
            " 4   Order Date              1000 non-null   datetime64[ns]\n",
            " 5   Quantity Ordered        1000 non-null   int64         \n",
            " 6   Order Status            1000 non-null   object        \n",
            " 7   State                   1000 non-null   object        \n",
            " 8   Address                 1000 non-null   object        \n",
            " 9   City                    1000 non-null   object        \n",
            " 10  Postal Code             1000 non-null   int64         \n",
            " 11  Sales Price (Per unit)  1000 non-null   int64         \n",
            " 12  Sale Price              1000 non-null   int64         \n",
            " 13  Phone                   1000 non-null   object        \n",
            "dtypes: datetime64[ns](1), int64(5), object(8)\n",
            "memory usage: 109.5+ KB\n",
            "None\n",
            "\n",
            "Describe:\n",
            "       Customer ID                     Order Date  Quantity Ordered  \\\n",
            "count   1000.00000                           1000       1000.000000   \n",
            "mean    1731.99600  2024-07-05 00:31:40.799999744          2.063000   \n",
            "min     1234.00000            2024-01-01 00:00:00          1.000000   \n",
            "25%     1482.75000            2024-04-02 18:00:00          1.000000   \n",
            "50%     1731.50000            2024-07-10 00:00:00          2.000000   \n",
            "75%     1981.25000            2024-10-04 00:00:00          3.000000   \n",
            "max     2231.00000            2024-12-31 00:00:00          3.000000   \n",
            "std      288.21378                            NaN          0.801045   \n",
            "\n",
            "       Postal Code  Sales Price (Per unit)  Sale Price   \n",
            "count  1000.000000             1000.000000  1000.000000  \n",
            "mean   3927.336000              633.500000  1304.750000  \n",
            "min     800.000000              250.000000   250.000000  \n",
            "25%    2500.000000              250.000000   600.000000  \n",
            "50%    3350.000000              600.000000   900.000000  \n",
            "75%    5600.000000             1200.000000  1800.000000  \n",
            "max    7310.000000             1200.000000  3600.000000  \n",
            "std    2024.721851              389.235474   995.183565  \n",
            "\n",
            "Missing values:\n",
            "Customer Last Name        0\n",
            "Customer First Name       0\n",
            "Customer ID               0\n",
            "Service Category          0\n",
            "Order Date                0\n",
            "Quantity Ordered          0\n",
            "Order Status              0\n",
            "State                     0\n",
            "Address                   0\n",
            "City                      0\n",
            "Postal Code               0\n",
            "Sales Price (Per unit)    0\n",
            "Sale Price                0\n",
            "Phone                     0\n",
            "dtype: int64\n"
          ]
        }
      ]
    },
    {
      "cell_type": "code",
      "source": [
        "# Merge first and last name in both dataframes\n",
        "sales_df['Full Name'] = sales_df['Customer First Name'] + ' ' + sales_df['Customer Last Name']\n",
        "customer_df['Full Name'] = customer_df['Customer First Name'] + ' ' + customer_df['Customer Last Name']\n",
        "\n",
        "# Drop the individual name columns\n",
        "sales_df = sales_df.drop(['Customer First Name', 'Customer Last Name'], axis=1)\n",
        "customer_df = customer_df.drop(['Customer First Name', 'Customer Last Name'], axis=1)\n",
        "\n",
        "print(\"\\nSales Sheet after merging names and dropping columns:\")\n",
        "print(sales_df.head())\n",
        "\n",
        "print(\"\\nCustomers Sheet after merging names and dropping columns:\")\n",
        "print(customer_df.head())"
      ],
      "metadata": {
        "colab": {
          "base_uri": "https://localhost:8080/"
        },
        "id": "KJHqVj6j53tx",
        "outputId": "2456fada-1d47-46e2-82e7-c695883cf956"
      },
      "execution_count": 53,
      "outputs": [
        {
          "output_type": "stream",
          "name": "stdout",
          "text": [
            "\n",
            "Sales Sheet after merging names and dropping columns:\n",
            "   Order ID  Customer ID           Service Category Order Date  \\\n",
            "0      3001         1234             Interview Prep 2024-05-06   \n",
            "1      3002         1235  Resume + LinkedIn Profile 2024-07-18   \n",
            "2      3003         1236           LinkedIn profile 2024-07-14   \n",
            "3      3004         1237           LinkedIn profile 2024-06-26   \n",
            "4      3005         1238        Networking Strategy 2024-11-28   \n",
            "\n",
            "   Quantity Ordered    Order Status State  Margins  Service Provider Expense  \\\n",
            "0                 3       Delivered    WA     0.10                     56.40   \n",
            "1                 3     In Progress   ACT     0.30                    233.10   \n",
            "2                 1       Delivered   NSW     0.25                    457.25   \n",
            "3                 2       Delivered   VIC     0.25                     56.75   \n",
            "4                 1  Service Booked   QLD     0.20                    271.00   \n",
            "\n",
            "   Sale Price   Total Profit (GMROI) Sales Agent         Full Name  \n",
            "0          564                507.60       Kelly      Lewis Hughes  \n",
            "1          777                543.90       Kelly         Ali Gomez  \n",
            "2         1829               1371.75   Priscilla         Mila Beck  \n",
            "3          227                170.25      Daniel    Ryleigh Juarez  \n",
            "4         1355               1084.00       Brian  Leonidas Preston  \n",
            "\n",
            "Customers Sheet after merging names and dropping columns:\n",
            "   Customer ID           Service Category Order Date  Quantity Ordered  \\\n",
            "0         1234             Interview Prep 2024-05-06                 1   \n",
            "1         1235  Resume + LinkedIn Profile 2024-07-18                 3   \n",
            "2         1236           LinkedIn profile 2024-07-14                 2   \n",
            "3         1237           LinkedIn profile 2024-06-26                 3   \n",
            "4         1238        Networking Strategy 2024-11-28                 2   \n",
            "\n",
            "     Order Status State                Address         City  Postal Code  \\\n",
            "0       Delivered    WA       54113 Main Street      Broome         6725   \n",
            "1     In Progress   ACT       31652 Main Street    Canberra         2600   \n",
            "2       Delivered   NSW       35446 King Street   Newcastle         2300   \n",
            "3       Delivered   VIC       67535 Park Avenue    Ballarat         3350   \n",
            "4  Service Booked   QLD  78361 Elizabeth Street  Gold Coast         4217   \n",
            "\n",
            "   Sales Price (Per unit)  Sale Price             Phone         Full Name  \n",
            "0                     250          250  +61 8 9929 7089      Lewis Hughes  \n",
            "1                     800         2400  +61 2 2684 3193         Ali Gomez  \n",
            "2                     300          600  +61 6 6279 4893         Mila Beck  \n",
            "3                     300          900  +61 9 6193 6662    Ryleigh Juarez  \n",
            "4                     250          500  +61 8 2149 9223  Leonidas Preston  \n"
          ]
        }
      ]
    },
    {
      "cell_type": "code",
      "source": [
        "# Check for duplicate rows in the Sales sheet\n",
        "print(\"\\nDuplicate rows in Sales sheet:\")\n",
        "print(sales_df.duplicated().sum())\n",
        "\n",
        "# Check for duplicate rows in the Customers sheet\n",
        "print(\"\\nDuplicate rows in Customers sheet:\")\n",
        "print(customer_df.duplicated().sum())"
      ],
      "metadata": {
        "colab": {
          "base_uri": "https://localhost:8080/"
        },
        "id": "sxZpZAcuvWUD",
        "outputId": "2566f126-67c3-4eb4-fbf8-31297c406170"
      },
      "execution_count": 54,
      "outputs": [
        {
          "output_type": "stream",
          "name": "stdout",
          "text": [
            "\n",
            "Duplicate rows in Sales sheet:\n",
            "0\n",
            "\n",
            "Duplicate rows in Customers sheet:\n",
            "0\n"
          ]
        }
      ]
    },
    {
      "cell_type": "code",
      "source": [
        "\n",
        "# Identify common columns\n",
        "common_columns = list(set(sales_df.columns) & set(customer_df.columns))\n",
        "print(f\"\\nCommon columns: {common_columns}\")\n",
        "\n",
        "# Check if values in common columns are similar (optional, can be done with more specific checks)\n",
        "# For simplicity here, we just check if there are any common columns to merge on.\n",
        "if not common_columns:\n",
        "    print(\"No common columns found for merging.\")\n",
        "else:\n",
        "    # Check for potential overlapping or duplicates in common columns across dataframes\n",
        "    # This is a simplified check; more robust checks depend on the specific data and columns\n",
        "    for col in common_columns:\n",
        "        overlap = pd.merge(sales_df[[col]], customer_df[[col]], on=col, how='inner')\n",
        "        if not overlap.empty:\n",
        "            print(f\"\\nOverlap detected in column '{col}'. Investigate data for potential issues.\")\n",
        "\n",
        "    # Merge the dataframes on all common columns\n",
        "    # Since we are merging on all common columns, we don't need to explicitly handle 'x' and 'y' suffixes\n",
        "    # as long as the values align.\n",
        "    merged_df = pd.merge(sales_df, customer_df, on=common_columns, how='outer', suffixes=('', '_customer')) # Using outer join to keep all data\n",
        "\n",
        "    # If you want to remove the automatically added suffixes for customer columns that were not common\n",
        "    # but had the same name as a sales column, you can rename them.\n",
        "    # Identify columns that got the '_customer' suffix\n",
        "    customer_suffixed_cols = [col for col in merged_df.columns if col.endswith('_customer')]\n",
        "\n",
        "    # You might want to inspect these columns to decide how to handle them (e.g., keep, drop, combine)\n",
        "    print(f\"\\nColumns with '_customer' suffix after merging: {customer_suffixed_cols}\")\n",
        "\n",
        "    # Example: Removing the suffix if you are confident these columns can be treated identically\n",
        "    # Note: This is a potentially lossy operation if the columns represent different data despite the name similarity\n",
        "    # Consider a more sophisticated approach if necessary.\n",
        "    # merged_df.columns = merged_df.columns.str.replace('_customer$', '', regex=True) # Uncomment to remove suffix\n",
        "\n",
        "    print(\"\\n--- Merged DataFrame Head ---\")\n",
        "    print(merged_df.head())\n",
        "    print(\"\\n--- Merged DataFrame Info ---\")\n",
        "    print(merged_df.info())"
      ],
      "metadata": {
        "colab": {
          "base_uri": "https://localhost:8080/"
        },
        "id": "7YzvBJOT4XW3",
        "outputId": "77c01997-0384-40fc-efb8-97a3033c215c"
      },
      "execution_count": 55,
      "outputs": [
        {
          "output_type": "stream",
          "name": "stdout",
          "text": [
            "\n",
            "Common columns: ['Service Category', 'State', 'Order Status', 'Order Date', 'Sale Price ', 'Quantity Ordered', 'Customer ID', 'Full Name']\n",
            "\n",
            "Overlap detected in column 'Service Category'. Investigate data for potential issues.\n",
            "\n",
            "Overlap detected in column 'State'. Investigate data for potential issues.\n",
            "\n",
            "Overlap detected in column 'Order Status'. Investigate data for potential issues.\n",
            "\n",
            "Overlap detected in column 'Order Date'. Investigate data for potential issues.\n",
            "\n",
            "Overlap detected in column 'Sale Price '. Investigate data for potential issues.\n",
            "\n",
            "Overlap detected in column 'Quantity Ordered'. Investigate data for potential issues.\n",
            "\n",
            "Overlap detected in column 'Customer ID'. Investigate data for potential issues.\n",
            "\n",
            "Overlap detected in column 'Full Name'. Investigate data for potential issues.\n",
            "\n",
            "Columns with '_customer' suffix after merging: []\n",
            "\n",
            "--- Merged DataFrame Head ---\n",
            "   Order ID  Customer ID Service Category Order Date  Quantity Ordered  \\\n",
            "0       NaN         1400   Interview Prep 2024-01-07                 2   \n",
            "1    3167.0         1400   Interview Prep 2024-01-07                 2   \n",
            "2    3024.0         1257   Interview Prep 2024-01-28                 2   \n",
            "3       NaN         1257   Interview Prep 2024-01-28                 3   \n",
            "4       NaN         2092   Interview Prep 2024-01-21                 2   \n",
            "\n",
            "  Order Status State  Margins  Service Provider Expense  Sale Price   \\\n",
            "0    Cancelled   ACT      NaN                       NaN          500   \n",
            "1    Cancelled   ACT      0.1                     175.1         1751   \n",
            "2    Cancelled   ACT      0.1                      66.6          666   \n",
            "3    Cancelled   ACT      NaN                       NaN          750   \n",
            "4    Delivered   ACT      NaN                       NaN          500   \n",
            "\n",
            "   Total Profit (GMROI) Sales Agent         Full Name                Address   \\\n",
            "0                   NaN         NaN  Jordan Carpenter       82683 King Street   \n",
            "1                1575.9       Brian  Jordan Carpenter                     NaN   \n",
            "2                 599.4      Daniel     Olive Herrera                     NaN   \n",
            "3                   NaN         NaN     Olive Herrera  79707 Elizabeth Street   \n",
            "4                   NaN         NaN      Octavia Mayo     12774 George Street   \n",
            "\n",
            "       City  Postal Code  Sales Price (Per unit)            Phone  \n",
            "0  Canberra       2600.0                   250.0  +61 6 7035 7589  \n",
            "1       NaN          NaN                     NaN              NaN  \n",
            "2       NaN          NaN                     NaN              NaN  \n",
            "3  Canberra       2600.0                   250.0  +61 3 7245 8172  \n",
            "4  Canberra       2600.0                   250.0  +61 4 2501 5784  \n",
            "\n",
            "--- Merged DataFrame Info ---\n",
            "<class 'pandas.core.frame.DataFrame'>\n",
            "RangeIndex: 2000 entries, 0 to 1999\n",
            "Data columns (total 18 columns):\n",
            " #   Column                    Non-Null Count  Dtype         \n",
            "---  ------                    --------------  -----         \n",
            " 0   Order ID                  1000 non-null   float64       \n",
            " 1   Customer ID               2000 non-null   int64         \n",
            " 2   Service Category          2000 non-null   object        \n",
            " 3   Order Date                2000 non-null   datetime64[ns]\n",
            " 4   Quantity Ordered          2000 non-null   int64         \n",
            " 5   Order Status              2000 non-null   object        \n",
            " 6   State                     2000 non-null   object        \n",
            " 7   Margins                   1000 non-null   float64       \n",
            " 8   Service Provider Expense  1000 non-null   float64       \n",
            " 9   Sale Price                2000 non-null   int64         \n",
            " 10  Total Profit (GMROI)      1000 non-null   float64       \n",
            " 11  Sales Agent               1000 non-null   object        \n",
            " 12  Full Name                 2000 non-null   object        \n",
            " 13  Address                   1000 non-null   object        \n",
            " 14  City                      1000 non-null   object        \n",
            " 15  Postal Code               1000 non-null   float64       \n",
            " 16  Sales Price (Per unit)    1000 non-null   float64       \n",
            " 17  Phone                     1000 non-null   object        \n",
            "dtypes: datetime64[ns](1), float64(6), int64(3), object(8)\n",
            "memory usage: 281.4+ KB\n",
            "None\n"
          ]
        }
      ]
    },
    {
      "cell_type": "code",
      "source": [
        "# Identify date columns - Assuming columns with 'Date' in their name are date columns\n",
        "date_columns = [col for col in merged_df.columns if 'Date' in col]\n",
        "\n",
        "# Iterate through identified date columns and format them\n",
        "for col in date_columns:\n",
        "    # Ensure the column is in datetime format first (important if not already)\n",
        "    merged_df[col] = pd.to_datetime(merged_df[col], errors='coerce')\n",
        "    # Format the date column to 'mm-year'\n",
        "    merged_df[col] = merged_df[col].dt.strftime('%m-%Y')\n",
        "\n",
        "# Display the head of the DataFrame with formatted date columns\n",
        "print(\"\\n--- Merged DataFrame with formatted date columns ---\")\n",
        "print(merged_df.head())\n",
        "\n",
        "# Display info to confirm the data type (will likely be 'object' after formatting)\n",
        "print(\"\\nInfo after formatting date columns:\")\n",
        "print(merged_df.info())"
      ],
      "metadata": {
        "colab": {
          "base_uri": "https://localhost:8080/"
        },
        "id": "wEYxNCvSx7Dz",
        "outputId": "e5b17e2e-cc45-429b-b9f8-ddc0988207c3"
      },
      "execution_count": 56,
      "outputs": [
        {
          "output_type": "stream",
          "name": "stdout",
          "text": [
            "\n",
            "--- Merged DataFrame with formatted date columns ---\n",
            "   Order ID  Customer ID Service Category Order Date  Quantity Ordered  \\\n",
            "0       NaN         1400   Interview Prep    01-2024                 2   \n",
            "1    3167.0         1400   Interview Prep    01-2024                 2   \n",
            "2    3024.0         1257   Interview Prep    01-2024                 2   \n",
            "3       NaN         1257   Interview Prep    01-2024                 3   \n",
            "4       NaN         2092   Interview Prep    01-2024                 2   \n",
            "\n",
            "  Order Status State  Margins  Service Provider Expense  Sale Price   \\\n",
            "0    Cancelled   ACT      NaN                       NaN          500   \n",
            "1    Cancelled   ACT      0.1                     175.1         1751   \n",
            "2    Cancelled   ACT      0.1                      66.6          666   \n",
            "3    Cancelled   ACT      NaN                       NaN          750   \n",
            "4    Delivered   ACT      NaN                       NaN          500   \n",
            "\n",
            "   Total Profit (GMROI) Sales Agent         Full Name                Address   \\\n",
            "0                   NaN         NaN  Jordan Carpenter       82683 King Street   \n",
            "1                1575.9       Brian  Jordan Carpenter                     NaN   \n",
            "2                 599.4      Daniel     Olive Herrera                     NaN   \n",
            "3                   NaN         NaN     Olive Herrera  79707 Elizabeth Street   \n",
            "4                   NaN         NaN      Octavia Mayo     12774 George Street   \n",
            "\n",
            "       City  Postal Code  Sales Price (Per unit)            Phone  \n",
            "0  Canberra       2600.0                   250.0  +61 6 7035 7589  \n",
            "1       NaN          NaN                     NaN              NaN  \n",
            "2       NaN          NaN                     NaN              NaN  \n",
            "3  Canberra       2600.0                   250.0  +61 3 7245 8172  \n",
            "4  Canberra       2600.0                   250.0  +61 4 2501 5784  \n",
            "\n",
            "Info after formatting date columns:\n",
            "<class 'pandas.core.frame.DataFrame'>\n",
            "RangeIndex: 2000 entries, 0 to 1999\n",
            "Data columns (total 18 columns):\n",
            " #   Column                    Non-Null Count  Dtype  \n",
            "---  ------                    --------------  -----  \n",
            " 0   Order ID                  1000 non-null   float64\n",
            " 1   Customer ID               2000 non-null   int64  \n",
            " 2   Service Category          2000 non-null   object \n",
            " 3   Order Date                2000 non-null   object \n",
            " 4   Quantity Ordered          2000 non-null   int64  \n",
            " 5   Order Status              2000 non-null   object \n",
            " 6   State                     2000 non-null   object \n",
            " 7   Margins                   1000 non-null   float64\n",
            " 8   Service Provider Expense  1000 non-null   float64\n",
            " 9   Sale Price                2000 non-null   int64  \n",
            " 10  Total Profit (GMROI)      1000 non-null   float64\n",
            " 11  Sales Agent               1000 non-null   object \n",
            " 12  Full Name                 2000 non-null   object \n",
            " 13  Address                   1000 non-null   object \n",
            " 14  City                      1000 non-null   object \n",
            " 15  Postal Code               1000 non-null   float64\n",
            " 16  Sales Price (Per unit)    1000 non-null   float64\n",
            " 17  Phone                     1000 non-null   object \n",
            "dtypes: float64(6), int64(3), object(9)\n",
            "memory usage: 281.4+ KB\n",
            "None\n"
          ]
        }
      ]
    },
    {
      "cell_type": "markdown",
      "metadata": {
        "id": "46a045f9"
      },
      "source": [
        "# Calculate Key Performance Indicators (KPIs)"
      ]
    },
    {
      "cell_type": "code",
      "metadata": {
        "colab": {
          "base_uri": "https://localhost:8080/"
        },
        "id": "be457db2",
        "outputId": "5da76ce6-b88c-48b3-c1bc-96dd9c53d0d0"
      },
      "source": [
        "# Calculate Total Revenue\n",
        "total_revenue = merged_df['Sale Price '].sum()\n",
        "print(f\"Total Revenue: ${total_revenue:,.2f}\")\n",
        "\n",
        "# Calculate Total Profit\n",
        "total_profit = merged_df['Total Profit (GMROI)'].sum()\n",
        "print(f\"Total Profit: ${total_profit:,.2f}\")\n",
        "\n",
        "# Calculate Number of Orders\n",
        "number_of_orders = merged_df['Order ID'].nunique()\n",
        "print(f\"Number of Orders: {number_of_orders}\")\n",
        "\n",
        "# Calculate Average Order Value\n",
        "average_order_value = total_revenue / number_of_orders\n",
        "print(f\"Average Order Value: ${average_order_value:,.2f}\")"
      ],
      "execution_count": 57,
      "outputs": [
        {
          "output_type": "stream",
          "name": "stdout",
          "text": [
            "Total Revenue: $2,195,177.00\n",
            "Total Profit: $683,960.35\n",
            "Number of Orders: 1000\n",
            "Average Order Value: $2,195.18\n"
          ]
        }
      ]
    },
    {
      "cell_type": "code",
      "source": [
        "writer = pd.ExcelWriter('kpi_dashboard.xlsx', engine='xlsxwriter')\n",
        "\n",
        "# Create a DataFrame for KPIs\n",
        "kpi_data = {\n",
        "    'KPI': ['Total Revenue', 'Total Profit', 'Number of Orders', 'Average Order Value'],\n",
        "    'Value': [total_revenue, total_profit, number_of_orders, average_order_value]\n",
        "}\n",
        "kpi_df = pd.DataFrame(kpi_data)\n",
        "\n",
        "# Write the KPIs DataFrame to a sheet named 'KPIs'\n",
        "kpi_df.to_excel(writer, sheet_name='KPIs', index=False)\n",
        "\n",
        "# You might want to write other dataframes (like the original sheets or the merged_df) to other sheets\n",
        "# Example:\n",
        "sales_df.to_excel(writer, sheet_name='Original_Sales', index=False)\n",
        "merged_df.to_excel(writer, sheet_name='Merged_Data', index=False)\n",
        "\n",
        "\n",
        "# Save the Excel file\n",
        "writer.close()\n",
        "\n",
        "print(\"\\nKPIs and other data written to kpi_dashboard.xlsx\")"
      ],
      "metadata": {
        "colab": {
          "base_uri": "https://localhost:8080/"
        },
        "id": "wZ_4ol7WwvQf",
        "outputId": "f899cb1a-13dd-4e77-ed5f-82eaec59f608"
      },
      "execution_count": 58,
      "outputs": [
        {
          "output_type": "stream",
          "name": "stdout",
          "text": [
            "\n",
            "KPIs and other data written to kpi_dashboard.xlsx\n"
          ]
        }
      ]
    },
    {
      "cell_type": "code",
      "metadata": {
        "colab": {
          "base_uri": "https://localhost:8080/"
        },
        "id": "5537579f",
        "outputId": "50760cc0-2ff2-4833-ea95-22ee1f9bac75"
      },
      "source": [
        "xls_kpi = pd.ExcelFile('kpi_dashboard.xlsx')\n",
        "print(\"Sheets in kpi_dashboard.xlsx:\")\n",
        "print(xls_kpi.sheet_names)"
      ],
      "execution_count": 59,
      "outputs": [
        {
          "output_type": "stream",
          "name": "stdout",
          "text": [
            "Sheets in kpi_dashboard.xlsx:\n",
            "['KPIs', 'Original_Sales', 'Merged_Data']\n"
          ]
        }
      ]
    }
  ]
}