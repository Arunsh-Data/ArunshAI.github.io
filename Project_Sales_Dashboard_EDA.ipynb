{
  "nbformat": 4,
  "nbformat_minor": 0,
  "metadata": {
    "colab": {
      "provenance": [],
      "mount_file_id": "1HNoPHBk7hypOLgD8wjcxrnd_gJiVHeVP",
      "authorship_tag": "ABX9TyPLWrLVtnC/WZwHkv4Qa7u1",
      "include_colab_link": true
    },
    "kernelspec": {
      "name": "python3",
      "display_name": "Python 3"
    },
    "language_info": {
      "name": "python"
    }
  },
  "cells": [
    {
      "cell_type": "markdown",
      "metadata": {
        "id": "view-in-github",
        "colab_type": "text"
      },
      "source": [
        "<a href=\"https://colab.research.google.com/github/Arunsh-Data/ArunshAI.github.io/blob/main/Project_Sales_Dashboard_EDA.ipynb\" target=\"_parent\"><img src=\"https://colab.research.google.com/assets/colab-badge.svg\" alt=\"Open In Colab\"/></a>"
      ]
    },
    {
      "cell_type": "code",
      "execution_count": 8,
      "metadata": {
        "id": "x7-3-V_fopuj"
      },
      "outputs": [],
      "source": [
        "import pandas as pd\n"
      ]
    },
    {
      "cell_type": "code",
      "source": [
        "url = '/content/sample_data/Sales Dashboard Dataset_01.xlsx'\n",
        "df = pd.read_excel(url)\n",
        "\n",
        "print(df.head())"
      ],
      "metadata": {
        "colab": {
          "base_uri": "https://localhost:8080/"
        },
        "id": "lL_NZcdnpKNK",
        "outputId": "7f690c19-755c-4ac6-cee4-a80c87d63c9a"
      },
      "execution_count": 9,
      "outputs": [
        {
          "output_type": "stream",
          "name": "stdout",
          "text": [
            "   Order ID Customer Last Name Customer First Name  Customer ID  \\\n",
            "0      3001             Hughes               Lewis         1234   \n",
            "1      3002              Gomez                 Ali         1235   \n",
            "2      3003               Beck                Mila         1236   \n",
            "3      3004             Juarez             Ryleigh         1237   \n",
            "4      3005            Preston            Leonidas         1238   \n",
            "\n",
            "            Service Category Order Date  Quantity Ordered    Order Status  \\\n",
            "0             Interview Prep 2024-05-06                 3       Delivered   \n",
            "1  Resume + LinkedIn Profile 2024-07-18                 3     In Progress   \n",
            "2           LinkedIn profile 2024-07-14                 1       Delivered   \n",
            "3           LinkedIn profile 2024-06-26                 2       Delivered   \n",
            "4        Networking Strategy 2024-11-28                 1  Service Booked   \n",
            "\n",
            "  State  Margins  Service Provider Expense  Sale Price   Total Profit (GMROI)  \\\n",
            "0    WA     0.10                     56.40          564                507.60   \n",
            "1   ACT     0.30                    233.10          777                543.90   \n",
            "2   NSW     0.25                    457.25         1829               1371.75   \n",
            "3   VIC     0.25                     56.75          227                170.25   \n",
            "4   QLD     0.20                    271.00         1355               1084.00   \n",
            "\n",
            "  Sales Agent  \n",
            "0       Kelly  \n",
            "1       Kelly  \n",
            "2   Priscilla  \n",
            "3      Daniel  \n",
            "4       Brian  \n"
          ]
        }
      ]
    },
    {
      "cell_type": "code",
      "source": [
        "xls = pd.ExcelFile(url)\n",
        "xls.sheet_names"
      ],
      "metadata": {
        "colab": {
          "base_uri": "https://localhost:8080/"
        },
        "id": "RAMu6I1Juphs",
        "outputId": "a775e40c-ab38-4cc5-9f13-178f1e4fdd3b"
      },
      "execution_count": 10,
      "outputs": [
        {
          "output_type": "execute_result",
          "data": {
            "text/plain": [
              "['Sales', 'Customers', 'Grad_Careers_Services']"
            ]
          },
          "metadata": {},
          "execution_count": 10
        }
      ]
    },
    {
      "cell_type": "code",
      "source": [
        "# Select the Sales sheet\n",
        "sales_df = xls.parse('Sales')\n",
        "\n",
        "# Perform EDA on the sales sheet\n",
        "print(\"\\n--- EDA for Sales Sheet ---\")\n",
        "print(\"\\nShape:\")\n",
        "print(sales_df.shape)\n",
        "print(\"\\nInfo:\")\n",
        "print(sales_df.info())\n",
        "print(\"\\nDescribe:\")\n",
        "print(sales_df.describe())\n",
        "print(\"\\nMissing values:\")\n",
        "print(sales_df.isnull().sum())\n",
        "\n",
        "# Select the Customer sheet\n",
        "customer_df = xls.parse('Customers')\n",
        "\n",
        "# Perform EDA on the customer sheet\n",
        "print(\"\\n--- EDA for Customers Sheet ---\")\n",
        "print(\"\\nShape:\")\n",
        "print(customer_df.shape)\n",
        "print(\"\\nInfo:\")\n",
        "print(customer_df.info())\n",
        "print(\"\\nDescribe:\")\n",
        "print(customer_df.describe())\n",
        "print(\"\\nMissing values:\")\n",
        "print(customer_df.isnull().sum())"
      ],
      "metadata": {
        "colab": {
          "base_uri": "https://localhost:8080/"
        },
        "id": "-IgkJ4Ipu11-",
        "outputId": "29a0f717-4235-4cd6-886d-a5361946180a"
      },
      "execution_count": 11,
      "outputs": [
        {
          "output_type": "stream",
          "name": "stdout",
          "text": [
            "\n",
            "--- EDA for Sales Sheet ---\n",
            "\n",
            "Shape:\n",
            "(1000, 14)\n",
            "\n",
            "Info:\n",
            "<class 'pandas.core.frame.DataFrame'>\n",
            "RangeIndex: 1000 entries, 0 to 999\n",
            "Data columns (total 14 columns):\n",
            " #   Column                    Non-Null Count  Dtype         \n",
            "---  ------                    --------------  -----         \n",
            " 0   Order ID                  1000 non-null   int64         \n",
            " 1   Customer Last Name        1000 non-null   object        \n",
            " 2   Customer First Name       1000 non-null   object        \n",
            " 3   Customer ID               1000 non-null   int64         \n",
            " 4   Service Category          1000 non-null   object        \n",
            " 5   Order Date                1000 non-null   datetime64[ns]\n",
            " 6   Quantity Ordered          1000 non-null   int64         \n",
            " 7   Order Status              1000 non-null   object        \n",
            " 8   State                     1000 non-null   object        \n",
            " 9   Margins                   1000 non-null   float64       \n",
            " 10  Service Provider Expense  1000 non-null   float64       \n",
            " 11  Sale Price                1000 non-null   int64         \n",
            " 12  Total Profit (GMROI)      1000 non-null   float64       \n",
            " 13  Sales Agent               1000 non-null   object        \n",
            "dtypes: datetime64[ns](1), float64(3), int64(4), object(6)\n",
            "memory usage: 109.5+ KB\n",
            "None\n",
            "\n",
            "Describe:\n",
            "          Order ID  Customer ID                     Order Date  \\\n",
            "count  1000.000000   1000.00000                           1000   \n",
            "mean   3500.500000   1731.99600  2024-07-05 00:31:40.799999744   \n",
            "min    3001.000000   1234.00000            2024-01-01 00:00:00   \n",
            "25%    3250.750000   1482.75000            2024-04-02 18:00:00   \n",
            "50%    3500.500000   1731.50000            2024-07-10 00:00:00   \n",
            "75%    3750.250000   1981.25000            2024-10-04 00:00:00   \n",
            "max    4000.000000   2231.00000            2024-12-31 00:00:00   \n",
            "std     288.819436    288.21378                            NaN   \n",
            "\n",
            "       Quantity Ordered      Margins  Service Provider Expense  Sale Price   \\\n",
            "count       1000.000000  1000.000000               1000.000000  1000.000000   \n",
            "mean           2.010000     0.233050                206.466650   890.427000   \n",
            "min            1.000000     0.100000                  1.100000    11.000000   \n",
            "25%            1.000000     0.200000                 91.325000   431.750000   \n",
            "50%            2.000000     0.250000                179.200000   897.000000   \n",
            "75%            3.000000     0.300000                309.562500  1311.250000   \n",
            "max            3.000000     0.300000                571.200000  1904.000000   \n",
            "std            0.821325     0.064957                136.610881   514.266924   \n",
            "\n",
            "       Total Profit (GMROI)  \n",
            "count           1000.000000  \n",
            "mean             683.960350  \n",
            "min                7.700000  \n",
            "25%              333.450000  \n",
            "50%              679.000000  \n",
            "75%             1013.337500  \n",
            "max             1660.500000  \n",
            "std              402.355764  \n",
            "\n",
            "Missing values:\n",
            "Order ID                    0\n",
            "Customer Last Name          0\n",
            "Customer First Name         0\n",
            "Customer ID                 0\n",
            "Service Category            0\n",
            "Order Date                  0\n",
            "Quantity Ordered            0\n",
            "Order Status                0\n",
            "State                       0\n",
            "Margins                     0\n",
            "Service Provider Expense    0\n",
            "Sale Price                  0\n",
            "Total Profit (GMROI)        0\n",
            "Sales Agent                 0\n",
            "dtype: int64\n",
            "\n",
            "--- EDA for Customers Sheet ---\n",
            "\n",
            "Shape:\n",
            "(1000, 14)\n",
            "\n",
            "Info:\n",
            "<class 'pandas.core.frame.DataFrame'>\n",
            "RangeIndex: 1000 entries, 0 to 999\n",
            "Data columns (total 14 columns):\n",
            " #   Column                  Non-Null Count  Dtype         \n",
            "---  ------                  --------------  -----         \n",
            " 0   Customer Last Name      1000 non-null   object        \n",
            " 1   Customer First Name     1000 non-null   object        \n",
            " 2   Customer ID             1000 non-null   int64         \n",
            " 3   Service Category        1000 non-null   object        \n",
            " 4   Order Date              1000 non-null   datetime64[ns]\n",
            " 5   Quantity Ordered        1000 non-null   int64         \n",
            " 6   Order Status            1000 non-null   object        \n",
            " 7   State                   1000 non-null   object        \n",
            " 8   Address                 1000 non-null   object        \n",
            " 9   City                    1000 non-null   object        \n",
            " 10  Postal Code             1000 non-null   int64         \n",
            " 11  Sales Price (Per unit)  1000 non-null   int64         \n",
            " 12  Sale Price              1000 non-null   int64         \n",
            " 13  Phone                   1000 non-null   object        \n",
            "dtypes: datetime64[ns](1), int64(5), object(8)\n",
            "memory usage: 109.5+ KB\n",
            "None\n",
            "\n",
            "Describe:\n",
            "       Customer ID                     Order Date  Quantity Ordered  \\\n",
            "count   1000.00000                           1000       1000.000000   \n",
            "mean    1731.99600  2024-07-05 00:31:40.799999744          2.063000   \n",
            "min     1234.00000            2024-01-01 00:00:00          1.000000   \n",
            "25%     1482.75000            2024-04-02 18:00:00          1.000000   \n",
            "50%     1731.50000            2024-07-10 00:00:00          2.000000   \n",
            "75%     1981.25000            2024-10-04 00:00:00          3.000000   \n",
            "max     2231.00000            2024-12-31 00:00:00          3.000000   \n",
            "std      288.21378                            NaN          0.801045   \n",
            "\n",
            "       Postal Code  Sales Price (Per unit)  Sale Price   \n",
            "count  1000.000000             1000.000000  1000.000000  \n",
            "mean   3927.336000              633.500000  1304.750000  \n",
            "min     800.000000              250.000000   250.000000  \n",
            "25%    2500.000000              250.000000   600.000000  \n",
            "50%    3350.000000              600.000000   900.000000  \n",
            "75%    5600.000000             1200.000000  1800.000000  \n",
            "max    7310.000000             1200.000000  3600.000000  \n",
            "std    2024.721851              389.235474   995.183565  \n",
            "\n",
            "Missing values:\n",
            "Customer Last Name        0\n",
            "Customer First Name       0\n",
            "Customer ID               0\n",
            "Service Category          0\n",
            "Order Date                0\n",
            "Quantity Ordered          0\n",
            "Order Status              0\n",
            "State                     0\n",
            "Address                   0\n",
            "City                      0\n",
            "Postal Code               0\n",
            "Sales Price (Per unit)    0\n",
            "Sale Price                0\n",
            "Phone                     0\n",
            "dtype: int64\n"
          ]
        }
      ]
    },
    {
      "cell_type": "code",
      "source": [
        "# Check for duplicate rows in the Sales sheet\n",
        "print(\"\\nDuplicate rows in Sales sheet:\")\n",
        "print(sales_df.duplicated().sum())\n",
        "\n",
        "# Check for duplicate rows in the Customers sheet\n",
        "print(\"\\nDuplicate rows in Customers sheet:\")\n",
        "print(customer_df.duplicated().sum())"
      ],
      "metadata": {
        "colab": {
          "base_uri": "https://localhost:8080/"
        },
        "id": "sxZpZAcuvWUD",
        "outputId": "3ba272b5-fc17-4255-cc0b-148e69f79e1a"
      },
      "execution_count": 12,
      "outputs": [
        {
          "output_type": "stream",
          "name": "stdout",
          "text": [
            "\n",
            "Duplicate rows in Sales sheet:\n",
            "0\n",
            "\n",
            "Duplicate rows in Customers sheet:\n",
            "0\n"
          ]
        }
      ]
    },
    {
      "cell_type": "code",
      "source": [
        "# Merge the Sales and Customers sheets on the 'CustomerID' column\n",
        "merged_df = pd.merge(sales_df, customer_df, on='Customer ID')\n",
        "\n",
        "# Display the first few rows of the merged DataFrame to verify\n",
        "print(\"\\n--- Merged DataFrame ---\")\n",
        "print(merged_df.head())\n",
        "\n",
        "# Display information about the merged DataFrame\n",
        "print(\"\\nMerged DataFrame Info:\")\n",
        "print(merged_df.info())"
      ],
      "metadata": {
        "colab": {
          "base_uri": "https://localhost:8080/"
        },
        "id": "15fmvHFcvHnM",
        "outputId": "bd453901-a001-4756-c61c-626bba695192"
      },
      "execution_count": 13,
      "outputs": [
        {
          "output_type": "stream",
          "name": "stdout",
          "text": [
            "\n",
            "--- Merged DataFrame ---\n",
            "   Order ID Customer Last Name_x Customer First Name_x  Customer ID  \\\n",
            "0      3001               Hughes                 Lewis         1234   \n",
            "1      3002                Gomez                   Ali         1235   \n",
            "2      3003                 Beck                  Mila         1236   \n",
            "3      3004               Juarez               Ryleigh         1237   \n",
            "4      3005              Preston              Leonidas         1238   \n",
            "\n",
            "          Service Category_x Order Date_x  Quantity Ordered_x  Order Status_x  \\\n",
            "0             Interview Prep   2024-05-06                   3       Delivered   \n",
            "1  Resume + LinkedIn Profile   2024-07-18                   3     In Progress   \n",
            "2           LinkedIn profile   2024-07-14                   1       Delivered   \n",
            "3           LinkedIn profile   2024-06-26                   2       Delivered   \n",
            "4        Networking Strategy   2024-11-28                   1  Service Booked   \n",
            "\n",
            "  State_x  Margins  ...  Order Date_y  Quantity Ordered_y  Order Status_y  \\\n",
            "0      WA     0.10  ...    2024-05-06                   1       Delivered   \n",
            "1     ACT     0.30  ...    2024-07-18                   3     In Progress   \n",
            "2     NSW     0.25  ...    2024-07-14                   2       Delivered   \n",
            "3     VIC     0.25  ...    2024-06-26                   3       Delivered   \n",
            "4     QLD     0.20  ...    2024-11-28                   2  Service Booked   \n",
            "\n",
            "  State_y                Address         City Postal Code  \\\n",
            "0      WA       54113 Main Street      Broome        6725   \n",
            "1     ACT       31652 Main Street    Canberra        2600   \n",
            "2     NSW       35446 King Street   Newcastle        2300   \n",
            "3     VIC       67535 Park Avenue    Ballarat        3350   \n",
            "4     QLD  78361 Elizabeth Street  Gold Coast        4217   \n",
            "\n",
            "  Sales Price (Per unit)  Sale Price _y            Phone  \n",
            "0                    250            250  +61 8 9929 7089  \n",
            "1                    800           2400  +61 2 2684 3193  \n",
            "2                    300            600  +61 6 6279 4893  \n",
            "3                    300            900  +61 9 6193 6662  \n",
            "4                    250            500  +61 8 2149 9223  \n",
            "\n",
            "[5 rows x 27 columns]\n",
            "\n",
            "Merged DataFrame Info:\n",
            "<class 'pandas.core.frame.DataFrame'>\n",
            "RangeIndex: 1004 entries, 0 to 1003\n",
            "Data columns (total 27 columns):\n",
            " #   Column                    Non-Null Count  Dtype         \n",
            "---  ------                    --------------  -----         \n",
            " 0   Order ID                  1004 non-null   int64         \n",
            " 1   Customer Last Name_x      1004 non-null   object        \n",
            " 2   Customer First Name_x     1004 non-null   object        \n",
            " 3   Customer ID               1004 non-null   int64         \n",
            " 4   Service Category_x        1004 non-null   object        \n",
            " 5   Order Date_x              1004 non-null   datetime64[ns]\n",
            " 6   Quantity Ordered_x        1004 non-null   int64         \n",
            " 7   Order Status_x            1004 non-null   object        \n",
            " 8   State_x                   1004 non-null   object        \n",
            " 9   Margins                   1004 non-null   float64       \n",
            " 10  Service Provider Expense  1004 non-null   float64       \n",
            " 11  Sale Price _x             1004 non-null   int64         \n",
            " 12  Total Profit (GMROI)      1004 non-null   float64       \n",
            " 13  Sales Agent               1004 non-null   object        \n",
            " 14  Customer Last Name_y      1004 non-null   object        \n",
            " 15  Customer First Name_y     1004 non-null   object        \n",
            " 16  Service Category_y        1004 non-null   object        \n",
            " 17  Order Date_y              1004 non-null   datetime64[ns]\n",
            " 18  Quantity Ordered_y        1004 non-null   int64         \n",
            " 19  Order Status_y            1004 non-null   object        \n",
            " 20  State_y                   1004 non-null   object        \n",
            " 21  Address                   1004 non-null   object        \n",
            " 22  City                      1004 non-null   object        \n",
            " 23  Postal Code               1004 non-null   int64         \n",
            " 24  Sales Price (Per unit)    1004 non-null   int64         \n",
            " 25  Sale Price _y             1004 non-null   int64         \n",
            " 26  Phone                     1004 non-null   object        \n",
            "dtypes: datetime64[ns](2), float64(3), int64(8), object(14)\n",
            "memory usage: 211.9+ KB\n",
            "None\n"
          ]
        }
      ]
    },
    {
      "cell_type": "code",
      "source": [
        "merged_df['Full Name'] = merged_df['Customer First Name_x'] + ' ' + merged_df['Customer Last Name_x']\n",
        "merged_df = merged_df.drop(['Customer First Name_x', 'Customer Last Name_x', 'Customer First Name_y', 'Customer Last Name_y'], axis=1)\n",
        "\n",
        "print(\"\\n--- DataFrame with Full Name and dropped First/Last Name ---\")\n",
        "print(merged_df.head())\n",
        "print(\"\\nInfo after adding Full Name and dropping First/Last Name:\")\n",
        "print(merged_df.info())"
      ],
      "metadata": {
        "colab": {
          "base_uri": "https://localhost:8080/"
        },
        "id": "3TMJErMYvnP6",
        "outputId": "fde27d02-ff36-4866-dba9-fa3cbfeb896c"
      },
      "execution_count": 14,
      "outputs": [
        {
          "output_type": "stream",
          "name": "stdout",
          "text": [
            "\n",
            "--- DataFrame with Full Name and dropped First/Last Name ---\n",
            "   Order ID  Customer ID         Service Category_x Order Date_x  \\\n",
            "0      3001         1234             Interview Prep   2024-05-06   \n",
            "1      3002         1235  Resume + LinkedIn Profile   2024-07-18   \n",
            "2      3003         1236           LinkedIn profile   2024-07-14   \n",
            "3      3004         1237           LinkedIn profile   2024-06-26   \n",
            "4      3005         1238        Networking Strategy   2024-11-28   \n",
            "\n",
            "   Quantity Ordered_x  Order Status_x State_x  Margins  \\\n",
            "0                   3       Delivered      WA     0.10   \n",
            "1                   3     In Progress     ACT     0.30   \n",
            "2                   1       Delivered     NSW     0.25   \n",
            "3                   2       Delivered     VIC     0.25   \n",
            "4                   1  Service Booked     QLD     0.20   \n",
            "\n",
            "   Service Provider Expense  Sale Price _x  ...  Quantity Ordered_y  \\\n",
            "0                     56.40            564  ...                   1   \n",
            "1                    233.10            777  ...                   3   \n",
            "2                    457.25           1829  ...                   2   \n",
            "3                     56.75            227  ...                   3   \n",
            "4                    271.00           1355  ...                   2   \n",
            "\n",
            "   Order Status_y State_y                Address         City Postal Code  \\\n",
            "0       Delivered      WA       54113 Main Street      Broome        6725   \n",
            "1     In Progress     ACT       31652 Main Street    Canberra        2600   \n",
            "2       Delivered     NSW       35446 King Street   Newcastle        2300   \n",
            "3       Delivered     VIC       67535 Park Avenue    Ballarat        3350   \n",
            "4  Service Booked     QLD  78361 Elizabeth Street  Gold Coast        4217   \n",
            "\n",
            "  Sales Price (Per unit) Sale Price _y            Phone         Full Name  \n",
            "0                    250           250  +61 8 9929 7089      Lewis Hughes  \n",
            "1                    800          2400  +61 2 2684 3193         Ali Gomez  \n",
            "2                    300           600  +61 6 6279 4893         Mila Beck  \n",
            "3                    300           900  +61 9 6193 6662    Ryleigh Juarez  \n",
            "4                    250           500  +61 8 2149 9223  Leonidas Preston  \n",
            "\n",
            "[5 rows x 24 columns]\n",
            "\n",
            "Info after adding Full Name and dropping First/Last Name:\n",
            "<class 'pandas.core.frame.DataFrame'>\n",
            "RangeIndex: 1004 entries, 0 to 1003\n",
            "Data columns (total 24 columns):\n",
            " #   Column                    Non-Null Count  Dtype         \n",
            "---  ------                    --------------  -----         \n",
            " 0   Order ID                  1004 non-null   int64         \n",
            " 1   Customer ID               1004 non-null   int64         \n",
            " 2   Service Category_x        1004 non-null   object        \n",
            " 3   Order Date_x              1004 non-null   datetime64[ns]\n",
            " 4   Quantity Ordered_x        1004 non-null   int64         \n",
            " 5   Order Status_x            1004 non-null   object        \n",
            " 6   State_x                   1004 non-null   object        \n",
            " 7   Margins                   1004 non-null   float64       \n",
            " 8   Service Provider Expense  1004 non-null   float64       \n",
            " 9   Sale Price _x             1004 non-null   int64         \n",
            " 10  Total Profit (GMROI)      1004 non-null   float64       \n",
            " 11  Sales Agent               1004 non-null   object        \n",
            " 12  Service Category_y        1004 non-null   object        \n",
            " 13  Order Date_y              1004 non-null   datetime64[ns]\n",
            " 14  Quantity Ordered_y        1004 non-null   int64         \n",
            " 15  Order Status_y            1004 non-null   object        \n",
            " 16  State_y                   1004 non-null   object        \n",
            " 17  Address                   1004 non-null   object        \n",
            " 18  City                      1004 non-null   object        \n",
            " 19  Postal Code               1004 non-null   int64         \n",
            " 20  Sales Price (Per unit)    1004 non-null   int64         \n",
            " 21  Sale Price _y             1004 non-null   int64         \n",
            " 22  Phone                     1004 non-null   object        \n",
            " 23  Full Name                 1004 non-null   object        \n",
            "dtypes: datetime64[ns](2), float64(3), int64(8), object(11)\n",
            "memory usage: 188.4+ KB\n",
            "None\n"
          ]
        }
      ]
    },
    {
      "cell_type": "code",
      "source": [
        "# Identify date columns - Assuming columns with 'Date' in their name are date columns\n",
        "date_columns = [col for col in merged_df.columns if 'Date' in col]\n",
        "\n",
        "# Iterate through identified date columns and format them\n",
        "for col in date_columns:\n",
        "    # Ensure the column is in datetime format first (important if not already)\n",
        "    merged_df[col] = pd.to_datetime(merged_df[col], errors='coerce')\n",
        "    # Format the date column to 'mm-year'\n",
        "    merged_df[col] = merged_df[col].dt.strftime('%m-%Y')\n",
        "\n",
        "# Display the head of the DataFrame with formatted date columns\n",
        "print(\"\\n--- Merged DataFrame with formatted date columns ---\")\n",
        "print(merged_df.head())\n",
        "\n",
        "# Display info to confirm the data type (will likely be 'object' after formatting)\n",
        "print(\"\\nInfo after formatting date columns:\")\n",
        "print(merged_df.info())"
      ],
      "metadata": {
        "colab": {
          "base_uri": "https://localhost:8080/"
        },
        "id": "wEYxNCvSx7Dz",
        "outputId": "d2a4b5d8-cd95-42e5-e583-80708087170d"
      },
      "execution_count": 15,
      "outputs": [
        {
          "output_type": "stream",
          "name": "stdout",
          "text": [
            "\n",
            "--- Merged DataFrame with formatted date columns ---\n",
            "   Order ID  Customer ID         Service Category_x Order Date_x  \\\n",
            "0      3001         1234             Interview Prep      05-2024   \n",
            "1      3002         1235  Resume + LinkedIn Profile      07-2024   \n",
            "2      3003         1236           LinkedIn profile      07-2024   \n",
            "3      3004         1237           LinkedIn profile      06-2024   \n",
            "4      3005         1238        Networking Strategy      11-2024   \n",
            "\n",
            "   Quantity Ordered_x  Order Status_x State_x  Margins  \\\n",
            "0                   3       Delivered      WA     0.10   \n",
            "1                   3     In Progress     ACT     0.30   \n",
            "2                   1       Delivered     NSW     0.25   \n",
            "3                   2       Delivered     VIC     0.25   \n",
            "4                   1  Service Booked     QLD     0.20   \n",
            "\n",
            "   Service Provider Expense  Sale Price _x  ...  Quantity Ordered_y  \\\n",
            "0                     56.40            564  ...                   1   \n",
            "1                    233.10            777  ...                   3   \n",
            "2                    457.25           1829  ...                   2   \n",
            "3                     56.75            227  ...                   3   \n",
            "4                    271.00           1355  ...                   2   \n",
            "\n",
            "   Order Status_y State_y                Address         City Postal Code  \\\n",
            "0       Delivered      WA       54113 Main Street      Broome        6725   \n",
            "1     In Progress     ACT       31652 Main Street    Canberra        2600   \n",
            "2       Delivered     NSW       35446 King Street   Newcastle        2300   \n",
            "3       Delivered     VIC       67535 Park Avenue    Ballarat        3350   \n",
            "4  Service Booked     QLD  78361 Elizabeth Street  Gold Coast        4217   \n",
            "\n",
            "  Sales Price (Per unit) Sale Price _y            Phone         Full Name  \n",
            "0                    250           250  +61 8 9929 7089      Lewis Hughes  \n",
            "1                    800          2400  +61 2 2684 3193         Ali Gomez  \n",
            "2                    300           600  +61 6 6279 4893         Mila Beck  \n",
            "3                    300           900  +61 9 6193 6662    Ryleigh Juarez  \n",
            "4                    250           500  +61 8 2149 9223  Leonidas Preston  \n",
            "\n",
            "[5 rows x 24 columns]\n",
            "\n",
            "Info after formatting date columns:\n",
            "<class 'pandas.core.frame.DataFrame'>\n",
            "RangeIndex: 1004 entries, 0 to 1003\n",
            "Data columns (total 24 columns):\n",
            " #   Column                    Non-Null Count  Dtype  \n",
            "---  ------                    --------------  -----  \n",
            " 0   Order ID                  1004 non-null   int64  \n",
            " 1   Customer ID               1004 non-null   int64  \n",
            " 2   Service Category_x        1004 non-null   object \n",
            " 3   Order Date_x              1004 non-null   object \n",
            " 4   Quantity Ordered_x        1004 non-null   int64  \n",
            " 5   Order Status_x            1004 non-null   object \n",
            " 6   State_x                   1004 non-null   object \n",
            " 7   Margins                   1004 non-null   float64\n",
            " 8   Service Provider Expense  1004 non-null   float64\n",
            " 9   Sale Price _x             1004 non-null   int64  \n",
            " 10  Total Profit (GMROI)      1004 non-null   float64\n",
            " 11  Sales Agent               1004 non-null   object \n",
            " 12  Service Category_y        1004 non-null   object \n",
            " 13  Order Date_y              1004 non-null   object \n",
            " 14  Quantity Ordered_y        1004 non-null   int64  \n",
            " 15  Order Status_y            1004 non-null   object \n",
            " 16  State_y                   1004 non-null   object \n",
            " 17  Address                   1004 non-null   object \n",
            " 18  City                      1004 non-null   object \n",
            " 19  Postal Code               1004 non-null   int64  \n",
            " 20  Sales Price (Per unit)    1004 non-null   int64  \n",
            " 21  Sale Price _y             1004 non-null   int64  \n",
            " 22  Phone                     1004 non-null   object \n",
            " 23  Full Name                 1004 non-null   object \n",
            "dtypes: float64(3), int64(8), object(13)\n",
            "memory usage: 188.4+ KB\n",
            "None\n"
          ]
        }
      ]
    },
    {
      "cell_type": "markdown",
      "metadata": {
        "id": "46a045f9"
      },
      "source": [
        "# Calculate Key Performance Indicators (KPIs)"
      ]
    },
    {
      "cell_type": "code",
      "metadata": {
        "colab": {
          "base_uri": "https://localhost:8080/"
        },
        "id": "be457db2",
        "outputId": "63cdd446-efd9-4a51-c574-0b7c8c3abcc3"
      },
      "source": [
        "# Calculate Total Revenue\n",
        "total_revenue = merged_df['Sale Price _x'].sum()\n",
        "print(f\"Total Revenue: ${total_revenue:,.2f}\")\n",
        "\n",
        "# Calculate Total Profit\n",
        "total_profit = merged_df['Total Profit (GMROI)'].sum()\n",
        "print(f\"Total Profit: ${total_profit:,.2f}\")\n",
        "\n",
        "# Calculate Number of Orders\n",
        "number_of_orders = merged_df['Order ID'].nunique()\n",
        "print(f\"Number of Orders: {number_of_orders}\")\n",
        "\n",
        "# Calculate Average Order Value\n",
        "average_order_value = total_revenue / number_of_orders\n",
        "print(f\"Average Order Value: ${average_order_value:,.2f}\")"
      ],
      "execution_count": 16,
      "outputs": [
        {
          "output_type": "stream",
          "name": "stdout",
          "text": [
            "Total Revenue: $892,140.00\n",
            "Total Profit: $685,317.30\n",
            "Number of Orders: 1000\n",
            "Average Order Value: $892.14\n"
          ]
        }
      ]
    },
    {
      "cell_type": "code",
      "metadata": {
        "id": "01a8b686",
        "outputId": "6d75f7af-e918-48b4-fc49-4e8ba2fbab6a",
        "colab": {
          "base_uri": "https://localhost:8080/"
        }
      },
      "source": [
        "%pip install xlsxwriter"
      ],
      "execution_count": 18,
      "outputs": [
        {
          "output_type": "stream",
          "name": "stdout",
          "text": [
            "Collecting xlsxwriter\n",
            "  Downloading xlsxwriter-3.2.5-py3-none-any.whl.metadata (2.7 kB)\n",
            "Downloading xlsxwriter-3.2.5-py3-none-any.whl (172 kB)\n",
            "\u001b[?25l   \u001b[90m━━━━━━━━━━━━━━━━━━━━━━━━━━━━━━━━━━━━━━━━\u001b[0m \u001b[32m0.0/172.3 kB\u001b[0m \u001b[31m?\u001b[0m eta \u001b[36m-:--:--\u001b[0m\r\u001b[2K   \u001b[90m━━━━━━━━━━━━━━━━━━━━━━━━━━━━━━━━━━━━━━━━\u001b[0m \u001b[32m172.3/172.3 kB\u001b[0m \u001b[31m6.3 MB/s\u001b[0m eta \u001b[36m0:00:00\u001b[0m\n",
            "\u001b[?25hInstalling collected packages: xlsxwriter\n",
            "Successfully installed xlsxwriter-3.2.5\n"
          ]
        }
      ]
    },
    {
      "cell_type": "code",
      "source": [
        "writer = pd.ExcelWriter('kpi_dashboard.xlsx', engine='xlsxwriter')\n",
        "\n",
        "# Create a DataFrame for KPIs\n",
        "kpi_data = {\n",
        "    'KPI': ['Total Revenue', 'Total Profit', 'Number of Orders', 'Average Order Value'],\n",
        "    'Value': [total_revenue, total_profit, number_of_orders, average_order_value]\n",
        "}\n",
        "kpi_df = pd.DataFrame(kpi_data)\n",
        "\n",
        "# Write the KPIs DataFrame to a sheet named 'KPIs'\n",
        "kpi_df.to_excel(writer, sheet_name='KPIs', index=False)\n",
        "\n",
        "# You might want to write other dataframes (like the original sheets or the merged_df) to other sheets\n",
        "# Example:\n",
        "sales_df.to_excel(writer, sheet_name='Original_Sales', index=False)\n",
        "merged_df.to_excel(writer, sheet_name='Merged_Data', index=False)\n",
        "\n",
        "\n",
        "# Save the Excel file\n",
        "writer.close()\n",
        "\n",
        "print(\"\\nKPIs and other data written to kpi_dashboard.xlsx\")"
      ],
      "metadata": {
        "colab": {
          "base_uri": "https://localhost:8080/"
        },
        "id": "wZ_4ol7WwvQf",
        "outputId": "1b625f4d-49f9-44e4-ca05-61551de28ec3"
      },
      "execution_count": 19,
      "outputs": [
        {
          "output_type": "stream",
          "name": "stdout",
          "text": [
            "\n",
            "KPIs and other data written to kpi_dashboard.xlsx\n"
          ]
        }
      ]
    },
    {
      "cell_type": "code",
      "metadata": {
        "colab": {
          "base_uri": "https://localhost:8080/"
        },
        "id": "5537579f",
        "outputId": "36dcf388-1cee-4f04-8249-6c92fc984024"
      },
      "source": [
        "xls_kpi = pd.ExcelFile('kpi_dashboard.xlsx')\n",
        "print(\"Sheets in kpi_dashboard.xlsx:\")\n",
        "print(xls_kpi.sheet_names)"
      ],
      "execution_count": 20,
      "outputs": [
        {
          "output_type": "stream",
          "name": "stdout",
          "text": [
            "Sheets in kpi_dashboard.xlsx:\n",
            "['KPIs', 'Original_Sales', 'Merged_Data']\n"
          ]
        }
      ]
    }
  ]
}